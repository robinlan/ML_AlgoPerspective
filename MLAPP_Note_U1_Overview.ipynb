{
 "metadata": {
  "name": "",
  "signature": "sha256:40e6f224c41cdc5f5cbaf8dbabfc6fd1725b55c257b51b2fc7b8da463c4bbba7"
 },
 "nbformat": 3,
 "nbformat_minor": 0,
 "worksheets": [
  {
   "cells": [
    {
     "cell_type": "markdown",
     "metadata": {},
     "source": [
      "MLAPP U1 -    \n",
      "=====\n",
      "&nbsp;&nbsp;&nbsp;&nbsp;&nbsp;&nbsp;&nbsp;&nbsp;&nbsp;&nbsp;An Overview\n",
      "====="
     ]
    },
    {
     "cell_type": "markdown",
     "metadata": {},
     "source": [
      "##1.1 &nbsp;&nbsp;&nbsp;Machine learning : what and why?\n",
      "1.  \u73fe\u5728\u662f\u5927\u6578\u64da\u6642\u4ee3\n",
      "2.  \u6211\u5011\u628a\u6a5f\u5668\u5b78\u7fd2\u5b9a\u7fa9\u6210\u8a31\u591a\u6f14\u7b97\u6cd5\u7684\u96c6\u5408, \u7136\u5f8c\u7528\u5176\u4e2d\u7684\u4e0d\u77e5\u540d\u898f\u5247\u505a\u6c7a\u5b9a\u548c\u9810\u6e2c\n",
      "3.  MLAPP\u7528\u7684\u5927\u90e8\u5206\u65b9\u6cd5\u5efa\u7acb\u5728\"\u6982\u7387\"\u7406\u8ad6\u7684\u57fa\u790e\u4e0a  \n",
      "\n",
      "###1.1.1 &nbsp;&nbsp;&nbsp;Types of machine learning  \n",
      "\n",
      "> #### Predictive ( Supervised ) Learning - \n",
      "> > 1. Given a labeled set of input-output pairs : $D = \\{(x_i,y_i)\\}_{i=1}^N$ , $D$ is called the __training set__, and $N$ is the number of training examples\n",
      "> > 2. We usually refer $x_i$ as __features__, __attributesor__, or __covariates__ , but $y_i$ as __output__ or __response__ variable\n",
      "> > 3. $y_i$ has two types : __categorical__ ( or __nominal__ , for __classification__ or __pattern recognition__) and __real-valued scalar__ (for __regression__)  \n",
      "\n",
      "> #### Descriptive ( Unsupervised ) Learning -  \n",
      "> > 1. Only : $D = \\{x_i\\}_{i=1}^N$\n",
      "> > 2. To find __interesting patterns__ in the data\n",
      "> > 3. Also named __knowlege discovery__  \n",
      "\n",
      "> #### Reinforcement Learning - \n",
      "> > 1. About __decision theory__\n",
      "> > 2. Others are beyond the scope of MLAPP  "
     ]
    },
    {
     "cell_type": "markdown",
     "metadata": {},
     "source": [
      "##1.2 &nbsp;&nbsp;&nbsp;Supervised learning\n",
      "\n",
      "###1.2.1 &nbsp;&nbsp;&nbsp;Classification  \n",
      "\n",
      "> #### $y \\in \\{1,...,C\\}$ -   \n",
      "> > when C = 2 ( __binary classification__ , $y\\in\\{0,1\\}$ ) , when C > 2 ( __multiclass classification__ or __multi-label classification__ , predict __multiple output model__)  \n",
      "\n",
      "> #### __Function approximation__ -   \n",
      "> > Assume $y = f(x)$ , the goal of learning is to estimate the function $f$ given a labeled training set , and make prediction using $\\hat{y} = \\hat{f}(x)$( __generalization__)   \n",
      "\n",
      "> ####The need for probabilistic predictions -   \n",
      "> > 1. To handle ambiguous cases\n",
      "> > 2. the probability distribution : Given the input vector $x$ and training set $D$ , we get $p(y\\mid x,D)$ ( if C = 2 , we get $p({y=1}\\mid x,D)$ ) , we get $p(y\\mid x,D,M)$ when choosing between $M$ models\n",
      "> > 3. the probability output : $\\hat{y} = \\hat{f}(x) = argmax_{c=1}^C p({y=c}\\mid x,D)$ , also called the __mode__ or a __MAP estimate__( __Maximun of a Postiriori__ )"
     ]
    },
    {
     "cell_type": "code",
     "collapsed": false,
     "input": [],
     "language": "python",
     "metadata": {},
     "outputs": []
    }
   ],
   "metadata": {}
  }
 ]
}